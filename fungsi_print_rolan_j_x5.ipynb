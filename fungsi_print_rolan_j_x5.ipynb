{
  "nbformat": 4,
  "nbformat_minor": 0,
  "metadata": {
    "colab": {
      "provenance": [],
      "collapsed_sections": [
        "8Q7Fa3cHhvR9"
      ],
      "toc_visible": true,
      "authorship_tag": "ABX9TyPp+nyDy/xgopFxFVBMAqAg",
      "include_colab_link": true
    },
    "kernelspec": {
      "name": "python3",
      "display_name": "Python 3"
    },
    "language_info": {
      "name": "python"
    }
  },
  "cells": [
    {
      "cell_type": "markdown",
      "metadata": {
        "id": "view-in-github",
        "colab_type": "text"
      },
      "source": [
        "<a href=\"https://colab.research.google.com/github/rolanjuliano2025-droid/KKA-X-SEMESTER-1/blob/main/fungsi_print_rolan_j_x5.ipynb\" target=\"_parent\"><img src=\"https://colab.research.google.com/assets/colab-badge.svg\" alt=\"Open In Colab\"/></a>"
      ]
    },
    {
      "cell_type": "markdown",
      "source": [
        "**teks tebal**\n",
        "\n",
        "#1. menampilkan teks bebas\n",
        "\n"
      ],
      "metadata": {
        "id": "8Q7Fa3cHhvR9"
      }
    },
    {
      "cell_type": "code",
      "execution_count": null,
      "metadata": {
        "colab": {
          "base_uri": "https://localhost:8080/"
        },
        "id": "9RC7gEp0hYaB",
        "outputId": "df3916d2-da38-45c8-e9ea-58d0f10d1ec6"
      },
      "outputs": [
        {
          "output_type": "stream",
          "name": "stdout",
          "text": [
            "hello world\n"
          ]
        }
      ],
      "source": [
        "print(\"hello world\")"
      ]
    },
    {
      "cell_type": "code",
      "source": [
        "print(\"rolan juliano tampan\")"
      ],
      "metadata": {
        "colab": {
          "base_uri": "https://localhost:8080/"
        },
        "id": "sGQN_n3CinDB",
        "outputId": "6e4713f8-b250-49d2-f3d6-4b3631521234"
      },
      "execution_count": null,
      "outputs": [
        {
          "output_type": "stream",
          "name": "stdout",
          "text": [
            "rolan juliano tampan\n"
          ]
        }
      ]
    },
    {
      "cell_type": "markdown",
      "source": [
        "#2. menampilkan nilai variabel"
      ],
      "metadata": {
        "id": "WdwX44KLkAoj"
      }
    },
    {
      "cell_type": "code",
      "source": [
        "beratbadan = 45000000000000\n",
        "\n",
        "print(beratbadan)"
      ],
      "metadata": {
        "colab": {
          "base_uri": "https://localhost:8080/"
        },
        "id": "QPTLo9yXlEXF",
        "outputId": "6bcc4d7d-ca70-4fb1-fdd7-63bf98891585"
      },
      "execution_count": null,
      "outputs": [
        {
          "output_type": "stream",
          "name": "stdout",
          "text": [
            "45000000000000\n"
          ]
        }
      ]
    },
    {
      "cell_type": "code",
      "source": [
        "tinggibadan = 20000000000000000000000000\n",
        "\n",
        "print(tinggibadan)"
      ],
      "metadata": {
        "colab": {
          "base_uri": "https://localhost:8080/"
        },
        "id": "XiEFwfsYmidE",
        "outputId": "0d2839bc-b81b-42ed-88ec-5bd6ca788b7d"
      },
      "execution_count": null,
      "outputs": [
        {
          "output_type": "stream",
          "name": "stdout",
          "text": [
            "20000000000000000000000000\n"
          ]
        }
      ]
    },
    {
      "cell_type": "code",
      "source": [
        "nama = \"ROLAN JULIANO\"\n",
        "print(nama)"
      ],
      "metadata": {
        "colab": {
          "base_uri": "https://localhost:8080/"
        },
        "id": "CFuCosC7nA5A",
        "outputId": "6e62b857-9655-4b9e-ccf5-75620661d275"
      },
      "execution_count": null,
      "outputs": [
        {
          "output_type": "stream",
          "name": "stdout",
          "text": [
            "ROLAN JULIANO\n"
          ]
        }
      ]
    },
    {
      "cell_type": "code",
      "source": [
        "namaidola = \"STEVE VAI\"\n",
        "\n",
        "\n",
        "\n",
        "\n",
        "\n",
        "\n",
        "\n",
        "print(namaidola)\n"
      ],
      "metadata": {
        "colab": {
          "base_uri": "https://localhost:8080/"
        },
        "id": "6prZgfZ8nKBF",
        "outputId": "34ca2182-1f65-4097-c540-8ce697b6b8b3"
      },
      "execution_count": null,
      "outputs": [
        {
          "output_type": "stream",
          "name": "stdout",
          "text": [
            "STEVE VAI\n"
          ]
        }
      ]
    },
    {
      "cell_type": "markdown",
      "source": [
        "#3.Menampilkan Teks Bebas dan Nilai Variabel"
      ],
      "metadata": {
        "id": "oNufgNLzkFQ7"
      }
    },
    {
      "cell_type": "code",
      "source": [
        "print (\"halo nama saya\",nama,\".berat badan saya\",beratbadan,\"kg.\")"
      ],
      "metadata": {
        "colab": {
          "base_uri": "https://localhost:8080/"
        },
        "id": "Tlvbgjk2kbvM",
        "outputId": "607f672a-421b-4b13-a234-7366c2a42497"
      },
      "execution_count": null,
      "outputs": [
        {
          "output_type": "stream",
          "name": "stdout",
          "text": [
            "halo nama saya ROLAN JULIANO .berat badan saya 45000000000000 kg.\n"
          ]
        }
      ]
    },
    {
      "cell_type": "code",
      "source": [
        "print(\"halo nama saya\"+nama+\".berat badan saya\"+str(beratbadan))"
      ],
      "metadata": {
        "colab": {
          "base_uri": "https://localhost:8080/"
        },
        "id": "yTN03s4Tl5I5",
        "outputId": "6a4e8f84-81f5-4882-fbbb-ae7edc7f442c"
      },
      "execution_count": null,
      "outputs": [
        {
          "output_type": "stream",
          "name": "stdout",
          "text": [
            "halo nama sayaROLAN JULIANO.berat badan saya45000000000000\n"
          ]
        }
      ]
    },
    {
      "cell_type": "code",
      "source": [
        "print(f\"halo nama saya {nama}.berat badam saya {beratbadan} tinggi badan saya {tinggibadan}\")"
      ],
      "metadata": {
        "colab": {
          "base_uri": "https://localhost:8080/"
        },
        "id": "muFq0k_Lmp5F",
        "outputId": "56457802-85f0-4e56-b846-5a76addc9763"
      },
      "execution_count": null,
      "outputs": [
        {
          "output_type": "stream",
          "name": "stdout",
          "text": [
            "halo nama saya ROLAN JULIANO.berat badam saya 45000000000000 tinggi badan saya 20000000000000000000000000\n"
          ]
        }
      ]
    },
    {
      "cell_type": "markdown",
      "source": [
        "#4 Escape Charater"
      ],
      "metadata": {
        "id": "sNOg7kDbqOGN"
      }
    },
    {
      "cell_type": "code",
      "source": [
        "print(\"nama:rolan juliano\")\n",
        "print(\"kelas: x.5\")\n",
        "print(\"no.absen: 33\")"
      ],
      "metadata": {
        "colab": {
          "base_uri": "https://localhost:8080/"
        },
        "id": "Xzvkyocaqfbc",
        "outputId": "7512e672-43fb-4770-f051-4e7cbd4d41c8"
      },
      "execution_count": null,
      "outputs": [
        {
          "output_type": "stream",
          "name": "stdout",
          "text": [
            "nama:rolan juliano\n",
            "kelas: x.5\n",
            "no.absen: 33\n"
          ]
        }
      ]
    },
    {
      "cell_type": "code",
      "source": [
        "print(\"Nama: rolan juliano\\nKelas: X-5\\nNo. Absen: 2\")"
      ],
      "metadata": {
        "id": "nGknE78_rKs_",
        "colab": {
          "base_uri": "https://localhost:8080/"
        },
        "outputId": "2905091f-68bb-4e97-f6d7-42b01ac37933"
      },
      "execution_count": null,
      "outputs": [
        {
          "output_type": "stream",
          "name": "stdout",
          "text": [
            "Nama: rolan juliano\n",
            "Kelas: X-5\n",
            "No. Absen: 2\n"
          ]
        }
      ]
    },
    {
      "cell_type": "code",
      "source": [
        "print(\"\"\"nama\\t\\t: rolan juliano\n",
        "Kelas\\t\\t: X-5\n",
        "No. Absen\\t: 33\"\"\")"
      ],
      "metadata": {
        "colab": {
          "base_uri": "https://localhost:8080/"
        },
        "id": "uLyK3X_8yo87",
        "outputId": "ba81153e-6417-4c74-932e-38950c94d813"
      },
      "execution_count": null,
      "outputs": [
        {
          "output_type": "stream",
          "name": "stdout",
          "text": [
            "nama\t\t: rolan juliano\n",
            "Kelas\t\t: X-5\n",
            "No. Absen\t: 33\n"
          ]
        }
      ]
    },
    {
      "cell_type": "code",
      "source": [
        "print('Nama Saya Ja\\'far Shodiq')"
      ],
      "metadata": {
        "colab": {
          "base_uri": "https://localhost:8080/"
        },
        "id": "ctCUnpefzBDp",
        "outputId": "3f1739c3-ecf2-4916-b38a-063e5bec8640"
      },
      "execution_count": null,
      "outputs": [
        {
          "output_type": "stream",
          "name": "stdout",
          "text": [
            "Nama Saya Ja'far Shodiq\n"
          ]
        }
      ]
    },
    {
      "cell_type": "code",
      "source": [
        "print(\"Nama Saya Ja'far Shodiq\")"
      ],
      "metadata": {
        "colab": {
          "base_uri": "https://localhost:8080/"
        },
        "id": "GbA-WKK6zGRy",
        "outputId": "92ecffa8-c0a0-4c7f-ff5e-56c9266c8421"
      },
      "execution_count": null,
      "outputs": [
        {
          "output_type": "stream",
          "name": "stdout",
          "text": [
            "Nama Saya Ja'far Shodiq\n"
          ]
        }
      ]
    },
    {
      "cell_type": "code",
      "source": [
        "print('Bu Shinta berkata, \"Tolong perhatikan TV dan Saya.\"')"
      ],
      "metadata": {
        "colab": {
          "base_uri": "https://localhost:8080/"
        },
        "id": "wP06KEWqzY4K",
        "outputId": "381d3c49-3802-4ce6-e3c8-da25fbb47764"
      },
      "execution_count": null,
      "outputs": [
        {
          "output_type": "stream",
          "name": "stdout",
          "text": [
            "Bu Shinta berkata, \"Tolong perhatikan TV dan Saya.\"\n"
          ]
        }
      ]
    },
    {
      "cell_type": "code",
      "source": [
        "print(\"Bu Shinta berkata, \\\"Tolong perhatikan TV dan Saya.\\\"\")"
      ],
      "metadata": {
        "colab": {
          "base_uri": "https://localhost:8080/"
        },
        "id": "EJ2E6zkNzb4o",
        "outputId": "99028997-f89f-4139-ec7b-12124b215af3"
      },
      "execution_count": null,
      "outputs": [
        {
          "output_type": "stream",
          "name": "stdout",
          "text": [
            "Bu Shinta berkata, \"Tolong perhatikan TV dan Saya.\"\n"
          ]
        }
      ]
    },
    {
      "cell_type": "code",
      "source": [
        "print(\"Lokasi file tugas KKA adalah di Local Disk C:\\\\KKA\\\\Tugas\")"
      ],
      "metadata": {
        "colab": {
          "base_uri": "https://localhost:8080/"
        },
        "id": "PO6Wjgj4zlfO",
        "outputId": "2af6f8e6-30c8-4aea-a985-4d50820d0ff6"
      },
      "execution_count": null,
      "outputs": [
        {
          "output_type": "stream",
          "name": "stdout",
          "text": [
            "Lokasi file tugas KKA adalah di Local Disk C:\\KKA\\Tugas\n"
          ]
        }
      ]
    },
    {
      "cell_type": "markdown",
      "source": [
        "#5 Parameter Fungsi Print"
      ],
      "metadata": {
        "id": "mgIOMP7M0foH"
      }
    },
    {
      "cell_type": "code",
      "source": [
        "nama_siswa_1 = \"jielo\"\n",
        "nama_siswa_2 = \"aida\"\n",
        "nama_siswa_3 = \"dani\"\n",
        "print(nama_siswa_1, end=\"-\")\n",
        "print(nama_siswa_2, end=\"-\")\n",
        "print(nama_siswa_3)"
      ],
      "metadata": {
        "colab": {
          "base_uri": "https://localhost:8080/"
        },
        "id": "sJHYzSTh0vl6",
        "outputId": "f3ace4c1-d4ec-4974-f410-977f826873bf"
      },
      "execution_count": 4,
      "outputs": [
        {
          "output_type": "stream",
          "name": "stdout",
          "text": [
            "jielo-aida-dani\n"
          ]
        }
      ]
    },
    {
      "cell_type": "code",
      "source": [
        "nama_siswa_1 = \"jielo\"\n",
        "\n",
        "nama_siswa_2 = \"Aida\"\n",
        "\n",
        "nama_siswa_3 = \"dani\"\n",
        "\n",
        "nama_siswa_4 = \"nurul\"\n",
        "\n",
        "print(nama_siswa_1, end=\"-\")\n",
        "print(nama_siswa_2, end=\"-\")\n",
        "print(nama_siswa_3, end=\"-\")\n",
        "print(nama_siswa_4, end=\"-\")"
      ],
      "metadata": {
        "colab": {
          "base_uri": "https://localhost:8080/"
        },
        "id": "dPZZ0hRn1tdx",
        "outputId": "e8b2e26a-4568-477a-e883-b455c632b4f6"
      },
      "execution_count": 5,
      "outputs": [
        {
          "output_type": "stream",
          "name": "stdout",
          "text": [
            "jielo-Aida-dani-nurul-"
          ]
        }
      ]
    },
    {
      "cell_type": "code",
      "source": [
        "nama_siswa_5 = \"Hasbi\"\n",
        "nama_siswa_6 = \"Habibi\"\n",
        "nama_siswa_7 = \"Rendra\"\n",
        "nama_siswa_8 = \"Naufal\"\n",
        "\n",
        "print(nama_siswa_8, nama_siswa_7, nama_siswa_5, nama_siswa_6, sep=\"-\")"
      ],
      "metadata": {
        "colab": {
          "base_uri": "https://localhost:8080/"
        },
        "id": "0uHTdQq34_BL",
        "outputId": "bebdf53d-5a33-47be-d41c-2cdadbf863ba"
      },
      "execution_count": null,
      "outputs": [
        {
          "output_type": "stream",
          "name": "stdout",
          "text": [
            "Naufal-Rendra-Hasbi-Habibi\n"
          ]
        }
      ]
    },
    {
      "cell_type": "code",
      "source": [
        "nama_siswa_5 = \"Hasbi\"\n",
        "nama_siswa_6 = \"Habibi\"\n",
        "nama_siswa_7 = \"Rendra\"\n",
        "nama_siswa_8 = \"Naufal\"\n",
        "\n",
        "print(nama_siswa_5, nama_siswa_8, nama_siswa_7, nama_siswa_6, nama_siswa_8, sep=\"*\")\n",
        "print(nama_siswa_7, nama_siswa_6, nama_siswa_5, nama_siswa_7, nama_siswa_7, sep=\"-\")"
      ],
      "metadata": {
        "colab": {
          "base_uri": "https://localhost:8080/"
        },
        "id": "VGf_GZW36rBQ",
        "outputId": "cc69e22b-d2cd-428e-899e-0471eca3bcee"
      },
      "execution_count": null,
      "outputs": [
        {
          "output_type": "stream",
          "name": "stdout",
          "text": [
            "Hasbi*Naufal*Rendra*Habibi*Naufal\n",
            "Rendra-Habibi-Hasbi-Rendra-Rendra\n"
          ]
        }
      ]
    },
    {
      "cell_type": "code",
      "source": [
        "print(\"capek banget gua jir\")"
      ],
      "metadata": {
        "colab": {
          "base_uri": "https://localhost:8080/"
        },
        "id": "v2g7bBWa5xgk",
        "outputId": "28bff19a-f0fb-4c0e-c7b7-53b67cbb1001"
      },
      "execution_count": 2,
      "outputs": [
        {
          "output_type": "stream",
          "name": "stdout",
          "text": [
            "capek banget gua jir\n"
          ]
        }
      ]
    }
  ]
}